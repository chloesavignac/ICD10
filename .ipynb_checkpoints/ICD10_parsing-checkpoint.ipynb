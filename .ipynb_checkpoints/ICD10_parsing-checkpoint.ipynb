{
 "cells": [
  {
   "cell_type": "markdown",
   "id": "b93bb9aa",
   "metadata": {},
   "source": [
    "# Run me to find the ICD10 code of a given disease! "
   ]
  },
  {
   "cell_type": "code",
   "execution_count": 1,
   "id": "ed348b2a",
   "metadata": {},
   "outputs": [],
   "source": [
    "import pandas as pd\n",
    "import numpy as np\n",
    "import requests"
   ]
  },
  {
   "cell_type": "code",
   "execution_count": 2,
   "id": "84f5ef47",
   "metadata": {},
   "outputs": [],
   "source": [
    "#The full list of ICD10 codes was found on the Centers for Medicare & Medicaid Services' website\n",
    "#An official webiste of the United States government\n",
    "#You can download the full list here:\n",
    "#https://www.cms.gov/medicare/coordination-benefits-recovery-overview/icd-code-lists\n",
    "\n",
    "ICD10 = pd.read_csv('ICD10.csv')\n",
    "ICD10.columns = ['code','desc','long_desc','nf_excl','unamed']\n",
    "\n",
    "#browse through ICD10 codes using key words\n",
    "def find_ICD10(*keys,save=True):\n",
    "    results_df = pd.DataFrame()\n",
    "    for diseases in ICD10.long_desc:\n",
    "        if all(key in str(diseases) for key in keys):\n",
    "            code = ICD10.iloc[np.where(ICD10.long_desc == diseases)].code\n",
    "            keep = ICD10.iloc[np.where(ICD10.long_desc == diseases)].iloc[:, 0:3]\n",
    "            results_df = pd.concat([results_df, keep])\n",
    "    #will save as csv by default unless save is set to False\n",
    "    if save:\n",
    "        results_df.copy().to_csv(f'{keys}_ICD10.csv')\n",
    "    return results_df.copy()"
   ]
  },
  {
   "cell_type": "code",
   "execution_count": 4,
   "id": "7af0a04e",
   "metadata": {
    "scrolled": false
   },
   "outputs": [
    {
     "data": {
      "text/html": [
       "<div>\n",
       "<style scoped>\n",
       "    .dataframe tbody tr th:only-of-type {\n",
       "        vertical-align: middle;\n",
       "    }\n",
       "\n",
       "    .dataframe tbody tr th {\n",
       "        vertical-align: top;\n",
       "    }\n",
       "\n",
       "    .dataframe thead th {\n",
       "        text-align: right;\n",
       "    }\n",
       "</style>\n",
       "<table border=\"1\" class=\"dataframe\">\n",
       "  <thead>\n",
       "    <tr style=\"text-align: right;\">\n",
       "      <th></th>\n",
       "      <th>code</th>\n",
       "      <th>desc</th>\n",
       "      <th>long_desc</th>\n",
       "    </tr>\n",
       "  </thead>\n",
       "  <tbody>\n",
       "    <tr>\n",
       "      <th>9609</th>\n",
       "      <td>I70221</td>\n",
       "      <td>Athscl native arteries of extremities w rest p...</td>\n",
       "      <td>Atherosclerosis of native arteries of extremit...</td>\n",
       "    </tr>\n",
       "    <tr>\n",
       "      <th>9649</th>\n",
       "      <td>I70321</td>\n",
       "      <td>Athscl unsp type bypass of the extrm w rest pa...</td>\n",
       "      <td>Atherosclerosis of unspecified type of bypass ...</td>\n",
       "    </tr>\n",
       "    <tr>\n",
       "      <th>9689</th>\n",
       "      <td>I70421</td>\n",
       "      <td>Athscl autol vein bypass of the extrm w rest p...</td>\n",
       "      <td>Atherosclerosis of autologous vein bypass graf...</td>\n",
       "    </tr>\n",
       "    <tr>\n",
       "      <th>9729</th>\n",
       "      <td>I70521</td>\n",
       "      <td>Athscl nonaut bio bypass of the extrm w rest p...</td>\n",
       "      <td>Atherosclerosis of nonautologous biological by...</td>\n",
       "    </tr>\n",
       "    <tr>\n",
       "      <th>9769</th>\n",
       "      <td>I70621</td>\n",
       "      <td>Athscl nonbiol bypass of the extrm w rest pain...</td>\n",
       "      <td>Atherosclerosis of nonbiological bypass graft(...</td>\n",
       "    </tr>\n",
       "    <tr>\n",
       "      <th>9809</th>\n",
       "      <td>I70721</td>\n",
       "      <td>Athscl type of bypass of the extrm w rest pain...</td>\n",
       "      <td>Atherosclerosis of other type of bypass graft(...</td>\n",
       "    </tr>\n",
       "  </tbody>\n",
       "</table>\n",
       "</div>"
      ],
      "text/plain": [
       "        code                                               desc  \\\n",
       "9609  I70221  Athscl native arteries of extremities w rest p...   \n",
       "9649  I70321  Athscl unsp type bypass of the extrm w rest pa...   \n",
       "9689  I70421  Athscl autol vein bypass of the extrm w rest p...   \n",
       "9729  I70521  Athscl nonaut bio bypass of the extrm w rest p...   \n",
       "9769  I70621  Athscl nonbiol bypass of the extrm w rest pain...   \n",
       "9809  I70721  Athscl type of bypass of the extrm w rest pain...   \n",
       "\n",
       "                                              long_desc  \n",
       "9609  Atherosclerosis of native arteries of extremit...  \n",
       "9649  Atherosclerosis of unspecified type of bypass ...  \n",
       "9689  Atherosclerosis of autologous vein bypass graf...  \n",
       "9729  Atherosclerosis of nonautologous biological by...  \n",
       "9769  Atherosclerosis of nonbiological bypass graft(...  \n",
       "9809  Atherosclerosis of other type of bypass graft(...  "
      ]
     },
     "execution_count": 4,
     "metadata": {},
     "output_type": "execute_result"
    }
   ],
   "source": [
    "#example 1\n",
    "find_ICD10('pain','leg','right')"
   ]
  },
  {
   "cell_type": "code",
   "execution_count": 5,
   "id": "915a84f2",
   "metadata": {},
   "outputs": [
    {
     "data": {
      "text/html": [
       "<div>\n",
       "<style scoped>\n",
       "    .dataframe tbody tr th:only-of-type {\n",
       "        vertical-align: middle;\n",
       "    }\n",
       "\n",
       "    .dataframe tbody tr th {\n",
       "        vertical-align: top;\n",
       "    }\n",
       "\n",
       "    .dataframe thead th {\n",
       "        text-align: right;\n",
       "    }\n",
       "</style>\n",
       "<table border=\"1\" class=\"dataframe\">\n",
       "  <thead>\n",
       "    <tr style=\"text-align: right;\">\n",
       "      <th></th>\n",
       "      <th>code</th>\n",
       "      <th>desc</th>\n",
       "      <th>long_desc</th>\n",
       "    </tr>\n",
       "  </thead>\n",
       "  <tbody>\n",
       "    <tr>\n",
       "      <th>9610</th>\n",
       "      <td>I70222</td>\n",
       "      <td>Athscl native arteries of extremities w rest p...</td>\n",
       "      <td>Atherosclerosis of native arteries of extremit...</td>\n",
       "    </tr>\n",
       "    <tr>\n",
       "      <th>9650</th>\n",
       "      <td>I70322</td>\n",
       "      <td>Athscl unsp type bypass of the extrm w rest pa...</td>\n",
       "      <td>Atherosclerosis of unspecified type of bypass ...</td>\n",
       "    </tr>\n",
       "    <tr>\n",
       "      <th>9690</th>\n",
       "      <td>I70422</td>\n",
       "      <td>Athscl autol vein bypass of the extrm w rest p...</td>\n",
       "      <td>Atherosclerosis of autologous vein bypass graf...</td>\n",
       "    </tr>\n",
       "    <tr>\n",
       "      <th>9730</th>\n",
       "      <td>I70522</td>\n",
       "      <td>Athscl nonaut bio bypass of the extrm w rest p...</td>\n",
       "      <td>Atherosclerosis of nonautologous biological by...</td>\n",
       "    </tr>\n",
       "    <tr>\n",
       "      <th>9770</th>\n",
       "      <td>I70622</td>\n",
       "      <td>Athscl nonbiol bypass of the extrm w rest pain...</td>\n",
       "      <td>Atherosclerosis of nonbiological bypass graft(...</td>\n",
       "    </tr>\n",
       "    <tr>\n",
       "      <th>9810</th>\n",
       "      <td>I70722</td>\n",
       "      <td>Athscl type of bypass of the extrm w rest pain...</td>\n",
       "      <td>Atherosclerosis of other type of bypass graft(...</td>\n",
       "    </tr>\n",
       "  </tbody>\n",
       "</table>\n",
       "</div>"
      ],
      "text/plain": [
       "        code                                               desc  \\\n",
       "9610  I70222  Athscl native arteries of extremities w rest p...   \n",
       "9650  I70322  Athscl unsp type bypass of the extrm w rest pa...   \n",
       "9690  I70422  Athscl autol vein bypass of the extrm w rest p...   \n",
       "9730  I70522  Athscl nonaut bio bypass of the extrm w rest p...   \n",
       "9770  I70622  Athscl nonbiol bypass of the extrm w rest pain...   \n",
       "9810  I70722  Athscl type of bypass of the extrm w rest pain...   \n",
       "\n",
       "                                              long_desc  \n",
       "9610  Atherosclerosis of native arteries of extremit...  \n",
       "9650  Atherosclerosis of unspecified type of bypass ...  \n",
       "9690  Atherosclerosis of autologous vein bypass graf...  \n",
       "9730  Atherosclerosis of nonautologous biological by...  \n",
       "9770  Atherosclerosis of nonbiological bypass graft(...  \n",
       "9810  Atherosclerosis of other type of bypass graft(...  "
      ]
     },
     "execution_count": 5,
     "metadata": {},
     "output_type": "execute_result"
    }
   ],
   "source": [
    "#example 2\n",
    "find_ICD10('pain','leg','left')"
   ]
  },
  {
   "cell_type": "code",
   "execution_count": null,
   "id": "4c5f3a01",
   "metadata": {},
   "outputs": [],
   "source": []
  }
 ],
 "metadata": {
  "kernelspec": {
   "display_name": "Python 3 (ipykernel)",
   "language": "python",
   "name": "python3"
  },
  "language_info": {
   "codemirror_mode": {
    "name": "ipython",
    "version": 3
   },
   "file_extension": ".py",
   "mimetype": "text/x-python",
   "name": "python",
   "nbconvert_exporter": "python",
   "pygments_lexer": "ipython3",
   "version": "3.7.12"
  },
  "toc": {
   "base_numbering": 1,
   "nav_menu": {},
   "number_sections": true,
   "sideBar": true,
   "skip_h1_title": false,
   "title_cell": "Table of Contents",
   "title_sidebar": "Contents",
   "toc_cell": false,
   "toc_position": {},
   "toc_section_display": true,
   "toc_window_display": false
  }
 },
 "nbformat": 4,
 "nbformat_minor": 5
}
